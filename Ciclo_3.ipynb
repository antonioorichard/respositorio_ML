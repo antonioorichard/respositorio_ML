{
 "cells": [
  {
   "cell_type": "code",
   "execution_count": 42,
   "metadata": {},
   "outputs": [],
   "source": [
    "# Importação das bibliotecas\n",
    "import pandas as pd\n",
    "import numpy as np\n",
    "from sklearn.linear_model import LinearRegression\n",
    "from sklearn import metrics as mt"
   ]
  },
  {
   "cell_type": "code",
   "execution_count": 43,
   "metadata": {},
   "outputs": [
    {
     "data": {
      "text/html": [
       "<div>\n",
       "<style scoped>\n",
       "    .dataframe tbody tr th:only-of-type {\n",
       "        vertical-align: middle;\n",
       "    }\n",
       "\n",
       "    .dataframe tbody tr th {\n",
       "        vertical-align: top;\n",
       "    }\n",
       "\n",
       "    .dataframe thead th {\n",
       "        text-align: right;\n",
       "    }\n",
       "</style>\n",
       "<table border=\"1\" class=\"dataframe\">\n",
       "  <thead>\n",
       "    <tr style=\"text-align: right;\">\n",
       "      <th></th>\n",
       "      <th>id_cliente</th>\n",
       "      <th>saldo_atual</th>\n",
       "      <th>predicted</th>\n",
       "    </tr>\n",
       "  </thead>\n",
       "  <tbody>\n",
       "    <tr>\n",
       "      <th>0</th>\n",
       "      <td>1767</td>\n",
       "      <td>278.172008</td>\n",
       "      <td>346.669549</td>\n",
       "    </tr>\n",
       "    <tr>\n",
       "      <th>1</th>\n",
       "      <td>11920</td>\n",
       "      <td>268.874152</td>\n",
       "      <td>367.840277</td>\n",
       "    </tr>\n",
       "    <tr>\n",
       "      <th>2</th>\n",
       "      <td>8910</td>\n",
       "      <td>446.643127</td>\n",
       "      <td>431.468979</td>\n",
       "    </tr>\n",
       "    <tr>\n",
       "      <th>3</th>\n",
       "      <td>4964</td>\n",
       "      <td>321.141267</td>\n",
       "      <td>445.506463</td>\n",
       "    </tr>\n",
       "    <tr>\n",
       "      <th>4</th>\n",
       "      <td>10100</td>\n",
       "      <td>428.716114</td>\n",
       "      <td>378.271169</td>\n",
       "    </tr>\n",
       "  </tbody>\n",
       "</table>\n",
       "</div>"
      ],
      "text/plain": [
       "   id_cliente  saldo_atual   predicted\n",
       "0        1767   278.172008  346.669549\n",
       "1       11920   268.874152  367.840277\n",
       "2        8910   446.643127  431.468979\n",
       "3        4964   321.141267  445.506463\n",
       "4       10100   428.716114  378.271169"
      ]
     },
     "execution_count": 43,
     "metadata": {},
     "output_type": "execute_result"
    }
   ],
   "source": [
    "# Load dataset\n",
    "df = pd.read_csv( 'dataset/train.csv' )\n",
    "# Seleção de Features\n",
    "# Características\n",
    "features = ['idade', 'divida_atual', 'renda_anual', 'valor_em_investimentos',\n",
    "'taxa_utilizacao_credito', 'num_emprestimos', 'num_contas_bancarias', 'num_cartoes_credito',\n",
    "'dias_atraso_dt_venc', 'num_pgtos_atrasados', 'num_consultas_credito', 'taxa_juros']\n",
    "# Variável alvo\n",
    "label = ['saldo_atual']\n",
    "# Dados de treinamento e teste\n",
    "x_train = df.loc[:, features]\n",
    "y_train = df.loc[:, label]\n",
    "# Treinamento do algoritmo\n",
    "lr_model = LinearRegression()\n",
    "lr_model.fit( x_train, y_train )\n",
    "\n",
    "# Previsão do algoritmo\n",
    "y_pred = lr_model.predict( x_train )\n",
    "# Resultado final\n",
    "df1 = df.loc[:, ['id_cliente', 'saldo_atual']]\n",
    "df1['predicted'] = y_pred\n",
    "df1.head()"
   ]
  },
  {
   "attachments": {
    "image.png": {
     "image/png": "[encoded data removed]"
    }
   },
   "cell_type": "markdown",
   "metadata": {},
   "source": [
    "## AULA 22 - R elevado a 2 na prática\n",
    "\n",
    "\n",
    "![image.png](attachment:image.png)"
   ]
  },
  {
   "cell_type": "code",
   "execution_count": 11,
   "metadata": {},
   "outputs": [
    {
     "name": "stdout",
     "output_type": "stream",
     "text": [
      "R2 square: 16.91736%\n",
      "16.91736% da variação da variável alvo y é reduzida, levando em consideração o preditor\n",
      "16.91736% da variação da variável alvo y é “explicada pela variação do preditor x\n"
     ]
    }
   ],
   "source": [
    "# 1.0 Load dataset\n",
    "df = pd.read_csv( 'dataset/train.csv' )\n",
    "# 2.0 Seleção de Features\n",
    "features = ['idade', 'divida_atual', 'renda_anual', 'valor_em_investimentos',\n",
    "'taxa_utilizacao_credito', 'num_emprestimos', 'num_contas_bancarias', 'num_cartoes_credito',\n",
    "'dias_atraso_dt_venc', 'num_pgtos_atrasados', 'num_consultas_credito', 'taxa_juros']\n",
    "label = ['saldo_atual']\n",
    "x_train = df.loc[:, features]\n",
    "y_train = df.loc[:, label]\n",
    "# 3.0 Model Training\n",
    "lr_model = LinearRegression()\n",
    "lr_model.fit( x_train, y_train )\n",
    "y_pred = lr_model.predict( x_train )\n",
    "df1 = df.loc[:, ['id_cliente', 'saldo_atual']]\n",
    "df1['predicted'] = y_pred\n",
    "# 4.0 Model Performance\n",
    "r2_squared = np.round( 100*mt.r2_score( y_train, y_pred ), 5)\n",
    "print( 'R2 square: {}%'.format( r2_squared ) )\n",
    "# 5.0 Conclusão\n",
    "print( '{}% da variação da variável alvo y é reduzida, levando em consideração o preditor'.format( r2_squared ) )\n",
    "print( '{}% da variação da variável alvo y é “explicada pela variação do preditor x'.format( r2_squared ) )\n"
   ]
  },
  {
   "attachments": {
    "image.png": {
     "image/png": "[encoded data removed]"
    }
   },
   "cell_type": "markdown",
   "metadata": {},
   "source": [
    "## AULA 23 -  MSE (Mean Square Error) Erro médio quadrádico -  calcula em uma única métrica o qual próximo foi a estimativa aos dados reais. \n",
    "Desvantagem  - outilier influência muito.\n",
    "![image.png](attachment:image.png)"
   ]
  },
  {
   "cell_type": "code",
   "execution_count": 12,
   "metadata": {},
   "outputs": [
    {
     "name": "stdout",
     "output_type": "stream",
     "text": [
      "A cada previsão, o erro médio é de: U$39370.27\n",
      "16.91736% da variação da variável alvo y é reduzida, levando em consideração o preditor\n",
      "16.91736% da variação da variável alvo y é “explicada pela variação do preditor x\n"
     ]
    }
   ],
   "source": [
    "\n",
    "## 4.2 MSE\n",
    "mse = np.round( mt.mean_squared_error( y_train, y_pred ) , 2 )\n",
    "print( 'A cada previsão, o erro médio é de: U${}'.format( mse ) )\n",
    "# 5.0 Conclusão\n",
    "print( '{}% da variação da variável alvo y é reduzida, levando em consideração o preditor'.format( r2_squared ) )\n",
    "print( '{}% da variação da variável alvo y é “explicada pela variação do preditor x'.format( r2_squared ) )"
   ]
  },
  {
   "attachments": {
    "image.png": {
     "image/png": "[encoded data removed]"
    }
   },
   "cell_type": "markdown",
   "metadata": {},
   "source": [
    "## AULA 24 - O RMSE (Root Mean Square Error)\n",
    "é uma medida de performance do modelo na mesma escala da variável alvo\n",
    "\n",
    "![image.png](attachment:image.png)"
   ]
  },
  {
   "cell_type": "code",
   "execution_count": 13,
   "metadata": {},
   "outputs": [
    {
     "name": "stdout",
     "output_type": "stream",
     "text": [
      "A cada previsão, o erro médio é de: U$198.41942949217446\n",
      "16.91736% da variação da variável alvo y é reduzida, levando em consideração o preditor\n",
      "16.91736% da variação da variável alvo y é “explicada pela variação do preditor x\n"
     ]
    }
   ],
   "source": [
    "## 4.3 RMSE\n",
    "rmse = np.sqrt( mse )\n",
    "print( 'A cada previsão, o erro médio é de: U${}'.format( rmse ) )\n",
    "# 5.0 Conclusão\n",
    "print( '{}% da variação da variável alvo y é reduzida, levando em consideração o preditor'.format( r2_squared ) )\n",
    "print( '{}% da variação da variável alvo y é “explicada pela variação do preditor x'.format( r2_squared ) )\n"
   ]
  },
  {
   "cell_type": "markdown",
   "metadata": {},
   "source": [
    "## AULA 25 - EXERCÍCIOS"
   ]
  },
  {
   "cell_type": "markdown",
   "metadata": {},
   "source": [
    "Exercícios\n",
    "1. Rafaça o código de treinamento da aula 19: “Linear Regression - Prática”\n",
    "no seu computador usando o Jupyter Notebook ou o Google Colabs e compute\n",
    "o R2, o MSE e o RMSE \n",
    "R: (FEITO)\n",
    "2. Qual o problema principal de usar a métrica MSE? Escreve um exemplo\n",
    "hipotético, no qual o problema acontece. \n",
    "R: Existem dois principais problemas, primeiro em relação aos outiliers, ele conseguem influênciar muito bem a métrica, levando a erro. Outro problema é que o resultado não está de acordo com escala original impossibilitando a comparação. \n",
    "\n",
    "\n",
    "\n",
    "3. Explique com um pequeno texto ilustrando o benefício de usar a métrica\n",
    "RMSE. ´\n",
    "R: É uma métrica que vai retorna o valor na escala do original. \n"
   ]
  },
  {
   "cell_type": "markdown",
   "metadata": {},
   "source": [
    "\n",
    "4. Modifique 5% das linhas de algumas colunas, adicionando outliers e\n",
    "refaça as métricas de R2, MSE e RMSE.\n",
    "\n"
   ]
  },
  {
   "cell_type": "code",
   "execution_count": 14,
   "metadata": {},
   "outputs": [],
   "source": [
    "x_train = df.loc[:, features]\n",
    "y_train = df.loc[:, label]\n"
   ]
  },
  {
   "cell_type": "code",
   "execution_count": 26,
   "metadata": {},
   "outputs": [
    {
     "data": {
      "text/plain": [
       "33"
      ]
     },
     "execution_count": 26,
     "metadata": {},
     "output_type": "execute_result"
    }
   ],
   "source": [
    "x_train.loc[10,'idade'] "
   ]
  },
  {
   "cell_type": "code",
   "execution_count": 101,
   "metadata": {},
   "outputs": [],
   "source": [
    "# Alaterando 5% da coluna idade para outlier\n",
    "\n",
    "from random import randint\n",
    "def ajust(quantity):\n",
    "    # quantidade a ser alterada em %%!\n",
    "    quantity = quantity/100\n",
    "    x_train = df.loc[:, features]\n",
    "    y_train = df.loc[:, label]\n",
    "    change = int(quantity*len(x_train))\n",
    "    \n",
    "    numeros = []  # Lista para armazenar os números\n",
    "    while len(numeros) < change:\n",
    "        numero_aleatorio = randint(1, change)  # Gere um número aleatório entre 1 e 20\n",
    "        if numero_aleatorio not in numeros:\n",
    "            numeros.append(numero_aleatorio)\n",
    "\n",
    "    #print(numeros)\n",
    "    for i in numeros:\n",
    "        x_train.loc[i,'num_emprestimos'] = 20\n",
    "        x_train.loc[i,'idade'] = 90\n",
    "    return (x_train)"
   ]
  },
  {
   "cell_type": "code",
   "execution_count": 103,
   "metadata": {},
   "outputs": [],
   "source": [
    "s = ajust(5)"
   ]
  },
  {
   "cell_type": "code",
   "execution_count": 104,
   "metadata": {},
   "outputs": [
    {
     "data": {
      "text/html": [
       "<div>\n",
       "<style scoped>\n",
       "    .dataframe tbody tr th:only-of-type {\n",
       "        vertical-align: middle;\n",
       "    }\n",
       "\n",
       "    .dataframe tbody tr th {\n",
       "        vertical-align: top;\n",
       "    }\n",
       "\n",
       "    .dataframe thead th {\n",
       "        text-align: right;\n",
       "    }\n",
       "</style>\n",
       "<table border=\"1\" class=\"dataframe\">\n",
       "  <thead>\n",
       "    <tr style=\"text-align: right;\">\n",
       "      <th></th>\n",
       "      <th>idade</th>\n",
       "      <th>divida_atual</th>\n",
       "      <th>renda_anual</th>\n",
       "      <th>valor_em_investimentos</th>\n",
       "      <th>taxa_utilizacao_credito</th>\n",
       "      <th>num_emprestimos</th>\n",
       "      <th>num_contas_bancarias</th>\n",
       "      <th>num_cartoes_credito</th>\n",
       "      <th>dias_atraso_dt_venc</th>\n",
       "      <th>num_pgtos_atrasados</th>\n",
       "      <th>num_consultas_credito</th>\n",
       "      <th>taxa_juros</th>\n",
       "    </tr>\n",
       "  </thead>\n",
       "  <tbody>\n",
       "    <tr>\n",
       "      <th>0</th>\n",
       "      <td>21</td>\n",
       "      <td>2577.05</td>\n",
       "      <td>24196.89636</td>\n",
       "      <td>104.306544</td>\n",
       "      <td>31.038763</td>\n",
       "      <td>6</td>\n",
       "      <td>5</td>\n",
       "      <td>7</td>\n",
       "      <td>21</td>\n",
       "      <td>14</td>\n",
       "      <td>9</td>\n",
       "      <td>15</td>\n",
       "    </tr>\n",
       "    <tr>\n",
       "      <th>1</th>\n",
       "      <td>90</td>\n",
       "      <td>2465.39</td>\n",
       "      <td>19227.37796</td>\n",
       "      <td>69.858778</td>\n",
       "      <td>36.917093</td>\n",
       "      <td>20</td>\n",
       "      <td>8</td>\n",
       "      <td>5</td>\n",
       "      <td>40</td>\n",
       "      <td>23</td>\n",
       "      <td>10</td>\n",
       "      <td>18</td>\n",
       "    </tr>\n",
       "    <tr>\n",
       "      <th>2</th>\n",
       "      <td>90</td>\n",
       "      <td>1055.29</td>\n",
       "      <td>42822.28223</td>\n",
       "      <td>134.201478</td>\n",
       "      <td>34.561714</td>\n",
       "      <td>20</td>\n",
       "      <td>3</td>\n",
       "      <td>6</td>\n",
       "      <td>26</td>\n",
       "      <td>13</td>\n",
       "      <td>3</td>\n",
       "      <td>15</td>\n",
       "    </tr>\n",
       "    <tr>\n",
       "      <th>3</th>\n",
       "      <td>90</td>\n",
       "      <td>703.05</td>\n",
       "      <td>51786.82600</td>\n",
       "      <td>297.350067</td>\n",
       "      <td>31.493561</td>\n",
       "      <td>20</td>\n",
       "      <td>3</td>\n",
       "      <td>7</td>\n",
       "      <td>12</td>\n",
       "      <td>7</td>\n",
       "      <td>2</td>\n",
       "      <td>1</td>\n",
       "    </tr>\n",
       "    <tr>\n",
       "      <th>4</th>\n",
       "      <td>90</td>\n",
       "      <td>891.29</td>\n",
       "      <td>44626.85346</td>\n",
       "      <td>134.201478</td>\n",
       "      <td>28.028887</td>\n",
       "      <td>20</td>\n",
       "      <td>8</td>\n",
       "      <td>7</td>\n",
       "      <td>24</td>\n",
       "      <td>10</td>\n",
       "      <td>8</td>\n",
       "      <td>20</td>\n",
       "    </tr>\n",
       "    <tr>\n",
       "      <th>...</th>\n",
       "      <td>...</td>\n",
       "      <td>...</td>\n",
       "      <td>...</td>\n",
       "      <td>...</td>\n",
       "      <td>...</td>\n",
       "      <td>...</td>\n",
       "      <td>...</td>\n",
       "      <td>...</td>\n",
       "      <td>...</td>\n",
       "      <td>...</td>\n",
       "      <td>...</td>\n",
       "      <td>...</td>\n",
       "    </tr>\n",
       "    <tr>\n",
       "      <th>9495</th>\n",
       "      <td>29</td>\n",
       "      <td>157.98</td>\n",
       "      <td>32624.67754</td>\n",
       "      <td>237.739275</td>\n",
       "      <td>32.407322</td>\n",
       "      <td>100</td>\n",
       "      <td>4</td>\n",
       "      <td>4</td>\n",
       "      <td>24</td>\n",
       "      <td>15</td>\n",
       "      <td>1</td>\n",
       "      <td>14</td>\n",
       "    </tr>\n",
       "    <tr>\n",
       "      <th>9496</th>\n",
       "      <td>1237</td>\n",
       "      <td>805.43</td>\n",
       "      <td>49024.15700</td>\n",
       "      <td>118.883577</td>\n",
       "      <td>23.632195</td>\n",
       "      <td>0</td>\n",
       "      <td>4</td>\n",
       "      <td>7</td>\n",
       "      <td>10</td>\n",
       "      <td>11</td>\n",
       "      <td>2</td>\n",
       "      <td>3</td>\n",
       "    </tr>\n",
       "    <tr>\n",
       "      <th>9497</th>\n",
       "      <td>47</td>\n",
       "      <td>2250.42</td>\n",
       "      <td>42200.88978</td>\n",
       "      <td>134.201478</td>\n",
       "      <td>34.623576</td>\n",
       "      <td>4</td>\n",
       "      <td>4</td>\n",
       "      <td>4</td>\n",
       "      <td>13</td>\n",
       "      <td>8</td>\n",
       "      <td>4</td>\n",
       "      <td>24</td>\n",
       "    </tr>\n",
       "    <tr>\n",
       "      <th>9498</th>\n",
       "      <td>42</td>\n",
       "      <td>505.37</td>\n",
       "      <td>35391.32289</td>\n",
       "      <td>245.498881</td>\n",
       "      <td>28.758818</td>\n",
       "      <td>3</td>\n",
       "      <td>7</td>\n",
       "      <td>6</td>\n",
       "      <td>24</td>\n",
       "      <td>13</td>\n",
       "      <td>3</td>\n",
       "      <td>11</td>\n",
       "    </tr>\n",
       "    <tr>\n",
       "      <th>9499</th>\n",
       "      <td>35</td>\n",
       "      <td>851.22</td>\n",
       "      <td>106192.53216</td>\n",
       "      <td>78.140488</td>\n",
       "      <td>30.528134</td>\n",
       "      <td>0</td>\n",
       "      <td>0</td>\n",
       "      <td>6</td>\n",
       "      <td>8</td>\n",
       "      <td>4</td>\n",
       "      <td>2377</td>\n",
       "      <td>3</td>\n",
       "    </tr>\n",
       "  </tbody>\n",
       "</table>\n",
       "<p>9500 rows × 12 columns</p>\n",
       "</div>"
      ],
      "text/plain": [
       "      idade  divida_atual   renda_anual  valor_em_investimentos  \\\n",
       "0        21       2577.05   24196.89636              104.306544   \n",
       "1        90       2465.39   19227.37796               69.858778   \n",
       "2        90       1055.29   42822.28223              134.201478   \n",
       "3        90        703.05   51786.82600              297.350067   \n",
       "4        90        891.29   44626.85346              134.201478   \n",
       "...     ...           ...           ...                     ...   \n",
       "9495     29        157.98   32624.67754              237.739275   \n",
       "9496   1237        805.43   49024.15700              118.883577   \n",
       "9497     47       2250.42   42200.88978              134.201478   \n",
       "9498     42        505.37   35391.32289              245.498881   \n",
       "9499     35        851.22  106192.53216               78.140488   \n",
       "\n",
       "      taxa_utilizacao_credito  num_emprestimos  num_contas_bancarias  \\\n",
       "0                   31.038763                6                     5   \n",
       "1                   36.917093               20                     8   \n",
       "2                   34.561714               20                     3   \n",
       "3                   31.493561               20                     3   \n",
       "4                   28.028887               20                     8   \n",
       "...                       ...              ...                   ...   \n",
       "9495                32.407322              100                     4   \n",
       "9496                23.632195                0                     4   \n",
       "9497                34.623576                4                     4   \n",
       "9498                28.758818                3                     7   \n",
       "9499                30.528134                0                     0   \n",
       "\n",
       "      num_cartoes_credito  dias_atraso_dt_venc  num_pgtos_atrasados  \\\n",
       "0                       7                   21                   14   \n",
       "1                       5                   40                   23   \n",
       "2                       6                   26                   13   \n",
       "3                       7                   12                    7   \n",
       "4                       7                   24                   10   \n",
       "...                   ...                  ...                  ...   \n",
       "9495                    4                   24                   15   \n",
       "9496                    7                   10                   11   \n",
       "9497                    4                   13                    8   \n",
       "9498                    6                   24                   13   \n",
       "9499                    6                    8                    4   \n",
       "\n",
       "      num_consultas_credito  taxa_juros  \n",
       "0                         9          15  \n",
       "1                        10          18  \n",
       "2                         3          15  \n",
       "3                         2           1  \n",
       "4                         8          20  \n",
       "...                     ...         ...  \n",
       "9495                      1          14  \n",
       "9496                      2           3  \n",
       "9497                      4          24  \n",
       "9498                      3          11  \n",
       "9499                   2377           3  \n",
       "\n",
       "[9500 rows x 12 columns]"
      ]
     },
     "execution_count": 104,
     "metadata": {},
     "output_type": "execute_result"
    }
   ],
   "source": [
    "s"
   ]
  },
  {
   "cell_type": "code",
   "execution_count": 106,
   "metadata": {},
   "outputs": [],
   "source": [
    "def bateria(x_train):\n",
    "    x_train = x_train\n",
    "    lr_model = LinearRegression()\n",
    "    lr_model.fit( x_train, y_train )\n",
    "    y_pred = lr_model.predict( x_train )\n",
    "    df1 = df.loc[:, ['id_cliente', 'saldo_atual']]\n",
    "    df1['predicted'] = y_pred\n",
    "    # 4.0 Model Performance\n",
    "    ## 4.1 R squared\n",
    "    r2_squared = np.round( 100*mt.r2_score( y_train, y_pred ), 2 )\n",
    "    print( 'R2 square: {}%'.format( r2_squared ) )\n",
    "    ## 4.2 MSE\n",
    "    mse = np.round( mt.mean_squared_error( y_train, y_pred ) , 2 )\n",
    "    print( 'A cada previsão, o erro médio é de: U${}'.format( mse ) )\n",
    "    ## 4.3 RMSE\n",
    "    rmse = np.sqrt( mse )\n",
    "    print( 'A cada previsão, o erro médio é de: U${}'.format( rmse ) )\n",
    "    # 5.0 Conclusão\n",
    "    print( '{}% da variação da variável alvo y é reduzida, levando em consideração o preditor'.format( r2_squared ) )\n",
    "    print( '{}% da variação da variável alvo y é “explicada pela variação do preditor x'.format( r2_squared ) )"
   ]
  },
  {
   "cell_type": "code",
   "execution_count": 66,
   "metadata": {},
   "outputs": [
    {
     "name": "stdout",
     "output_type": "stream",
     "text": [
      "[78, 222, 43, 35, 164, 313, 48, 327, 242, 19, 30, 32, 67, 298, 289, 338, 187, 389, 424, 330, 396, 86, 447, 359, 135, 22, 426, 282, 186, 133, 228, 471, 416, 218, 454, 410, 195, 248, 441, 472, 349, 92, 320, 250, 34, 129, 126, 268, 295, 235, 384, 14, 147, 379, 261, 306, 161, 174, 362, 267, 363, 182, 66, 386, 371, 450, 392, 53, 278, 366, 404, 140, 201, 323, 468, 309, 54, 97, 264, 324, 38, 79, 158, 334, 351, 82, 212, 193, 326, 125, 420, 176, 217, 142, 169, 3, 119, 239, 260, 380, 299, 463, 395, 44, 285, 93, 27, 443, 238, 300, 191, 344, 57, 356, 280, 244, 166, 350, 224, 114, 75, 206, 316, 400, 137, 390, 434, 339, 439, 165, 51, 423, 403, 237, 170, 180, 205, 144, 56, 207, 105, 84, 184, 312, 40, 308, 95, 160, 364, 74, 332, 286, 305, 111, 47, 465, 331, 31, 106, 429, 33, 440, 284, 223, 375, 357, 269, 453, 296, 96, 76, 469, 473, 325, 377, 315, 122, 401, 83, 413, 263, 321, 378, 200, 265, 80, 139, 121, 271, 101, 262, 108, 449, 342, 109, 407, 279, 4, 310, 69, 23, 419, 5, 98, 432, 241, 345, 255, 318, 65, 230, 64, 185, 444, 281, 474, 130, 46, 288, 414, 374, 452, 273, 322, 10, 16, 87, 104, 358, 149, 113, 402, 118, 341, 192, 337, 294, 189, 254, 42, 116, 467, 249, 457, 446, 188, 328, 475, 25, 72, 175, 173, 120, 172, 146, 60, 335, 304, 314, 41, 259, 49, 202, 240, 227, 71, 232, 7, 411, 353, 459, 155, 214, 70, 257, 422, 190, 26, 2, 204, 24, 428, 68, 100, 17, 9, 236, 442, 150, 394, 13, 461, 196, 352, 372, 258, 90, 361, 209, 456, 45, 194, 110, 124, 433, 381, 178, 81, 73, 343, 61, 370, 167, 221, 210, 292, 427, 151, 369, 234, 1, 307, 417, 159, 107, 18, 136, 128, 272, 274, 276, 91, 215, 368, 421, 415, 333, 203, 55, 28, 148, 275, 301, 291, 290, 229, 123, 29, 208, 220, 319, 219, 216, 303, 430, 112, 376, 213, 211, 181, 393, 171, 246, 408, 99, 243, 247, 297, 431, 252, 406, 287, 199, 198, 88, 470, 348, 418, 226, 134, 391, 231, 277, 409, 448, 6, 435, 62, 153, 77, 225, 59, 94, 387, 354, 156, 177, 340, 462, 103, 270, 152, 383, 445, 399, 412, 89, 466, 127, 302, 36, 63, 336, 138, 163, 154, 347, 464, 11, 436, 373, 355, 385, 438, 8, 20, 12, 256, 455, 37, 157, 398, 15, 233, 143, 39, 50, 311, 58, 162, 85, 251, 253, 115, 405, 346, 360, 197, 367, 283, 365, 132, 266, 382, 437, 425, 293, 168, 52, 145, 179, 317, 21, 388, 131, 329, 117, 397, 183, 245, 102, 458, 460, 141, 451]\n",
      "R2 square: 16.92%\n",
      "A cada previsão, o erro médio é de: U$39369.85\n",
      "A cada previsão, o erro médio é de: U$198.41837112525644\n",
      "16.92% da variação da variável alvo y é reduzida, levando em consideração o preditor\n",
      "16.92% da variação da variável alvo y é “explicada pela variação do preditor x\n"
     ]
    }
   ],
   "source": [
    "\n",
    "bateria(ajust(5))\n",
    "\n"
   ]
  },
  {
   "cell_type": "markdown",
   "metadata": {},
   "source": [
    "\n",
    "5. Faça a seguinte bateria de testes\n",
    "5.1 Refaça o exercícios 4 com as seguintes quantidade de outliers: 2%,\n",
    "5%, 10%, 20% e 30%."
   ]
  },
  {
   "cell_type": "code",
   "execution_count": 107,
   "metadata": {},
   "outputs": [
    {
     "name": "stdout",
     "output_type": "stream",
     "text": [
      "R2 square: 16.92%\n",
      "A cada previsão, o erro médio é de: U$39369.99\n",
      "A cada previsão, o erro médio é de: U$198.41872391485637\n",
      "16.92% da variação da variável alvo y é reduzida, levando em consideração o preditor\n",
      "16.92% da variação da variável alvo y é “explicada pela variação do preditor x\n"
     ]
    }
   ],
   "source": [
    "bateria(ajust(2))"
   ]
  },
  {
   "cell_type": "code",
   "execution_count": 108,
   "metadata": {},
   "outputs": [
    {
     "name": "stdout",
     "output_type": "stream",
     "text": [
      "R2 square: 16.92%\n",
      "A cada previsão, o erro médio é de: U$39369.87\n",
      "A cada previsão, o erro médio é de: U$198.41842152380914\n",
      "16.92% da variação da variável alvo y é reduzida, levando em consideração o preditor\n",
      "16.92% da variação da variável alvo y é “explicada pela variação do preditor x\n"
     ]
    }
   ],
   "source": [
    "bateria(ajust(5))"
   ]
  },
  {
   "cell_type": "code",
   "execution_count": 109,
   "metadata": {},
   "outputs": [
    {
     "name": "stdout",
     "output_type": "stream",
     "text": [
      "R2 square: 16.92%\n",
      "A cada previsão, o erro médio é de: U$39367.46\n",
      "A cada previsão, o erro médio é de: U$198.41234840604048\n",
      "16.92% da variação da variável alvo y é reduzida, levando em consideração o preditor\n",
      "16.92% da variação da variável alvo y é “explicada pela variação do preditor x\n"
     ]
    }
   ],
   "source": [
    "bateria(ajust(10))"
   ]
  },
  {
   "cell_type": "code",
   "execution_count": 110,
   "metadata": {},
   "outputs": [
    {
     "name": "stdout",
     "output_type": "stream",
     "text": [
      "R2 square: 16.96%\n",
      "A cada previsão, o erro médio é de: U$39351.04\n",
      "A cada previsão, o erro médio é de: U$198.3709656174512\n",
      "16.96% da variação da variável alvo y é reduzida, levando em consideração o preditor\n",
      "16.96% da variação da variável alvo y é “explicada pela variação do preditor x\n"
     ]
    }
   ],
   "source": [
    "bateria(ajust(20))"
   ]
  },
  {
   "cell_type": "code",
   "execution_count": 111,
   "metadata": {},
   "outputs": [
    {
     "name": "stdout",
     "output_type": "stream",
     "text": [
      "R2 square: 16.95%\n",
      "A cada previsão, o erro médio é de: U$39352.93\n",
      "A cada previsão, o erro médio é de: U$198.37572936223827\n",
      "16.95% da variação da variável alvo y é reduzida, levando em consideração o preditor\n",
      "16.95% da variação da variável alvo y é “explicada pela variação do preditor x\n"
     ]
    }
   ],
   "source": [
    "bateria(ajust(30))"
   ]
  }
 ],
 "metadata": {
  "kernelspec": {
   "display_name": "ML",
   "language": "python",
   "name": "python3"
  },
  "language_info": {
   "codemirror_mode": {
    "name": "ipython",
    "version": 3
   },
   "file_extension": ".py",
   "mimetype": "text/x-python",
   "name": "python",
   "nbconvert_exporter": "python",
   "pygments_lexer": "ipython3",
   "version": "3.12.0"
  }
 },
 "nbformat": 4,
 "nbformat_minor": 2
}
