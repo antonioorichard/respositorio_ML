{
 "cells": [
  {
   "cell_type": "markdown",
   "metadata": {},
   "source": [
    "# Decision Tree"
   ]
  },
  {
   "cell_type": "markdown",
   "metadata": {},
   "source": [
    "## 0.1 Imports "
   ]
  },
  {
   "cell_type": "code",
   "execution_count": 1,
   "metadata": {},
   "outputs": [],
   "source": [
    "# Load datasets\n",
    "#import cv2\n",
    "#import pydotplus\n",
    "#import matplotlib.pyplot as plt\n",
    "\n",
    "# Load datasets\n",
    "#import cv2\n",
    "#import pydotplus\n",
    "#import matplotlib.pyplot as plt\n",
    "#from six import StringIO\n",
    "from sklearn import datasets as dt\n",
    "from sklearn import tree as tr\n",
    "#from IPython.display import Image"
   ]
  },
  {
   "cell_type": "markdown",
   "metadata": {},
   "source": [
    "# 1.0. Load dataset"
   ]
  },
  {
   "cell_type": "code",
   "execution_count": 2,
   "metadata": {},
   "outputs": [],
   "source": [
    "iris = dt.load_iris()\n",
    "X = iris.data[:, 2:]\n",
    "y = iris.target"
   ]
  },
  {
   "cell_type": "markdown",
   "metadata": {},
   "source": [
    "##  2.0 Model training"
   ]
  },
  {
   "cell_type": "code",
   "execution_count": 3,
   "metadata": {},
   "outputs": [
    {
     "data": {
      "text/plain": [
       "<function sklearn.tree._export.export_graphviz(decision_tree, out_file=None, *, max_depth=None, feature_names=None, class_names=None, label='all', filled=False, leaves_parallel=False, impurity=True, node_ids=False, proportion=False, rotate=False, rounded=False, special_characters=False, precision=3, fontname='helvetica')>"
      ]
     },
     "execution_count": 3,
     "metadata": {},
     "output_type": "execute_result"
    }
   ],
   "source": [
    "#define \n",
    "tree_clf = tr.DecisionTreeClassifier( max_depth=2 )\n",
    "# training (fig)\n",
    "tree_clf.fit(X, y)\n",
    "\n",
    "# predict \n",
    "tr.export_graphviz"
   ]
  },
  {
   "cell_type": "code",
   "execution_count": 4,
   "metadata": {},
   "outputs": [],
   "source": [
    "# Model fit\n",
    "\n",
    "# Export draw\n",
    "#dot_data = StringIO()\n",
    "tr.export_graphviz(\n",
    "                    tree_clf,\n",
    "                    out_file='tree.dot',\n",
    "                    feature_names=iris.feature_names[2:],\n",
    "                    class_names=iris.target_names,\n",
    "                    rounded=True,\n",
    "                    filled=True\n",
    "                    )\n",
    "\n",
    "\n",
    "\n",
    "\n",
    "# Convert .dot to .png\n",
    "#!dot -Tpng tree.dot -o tree.png\n",
    "\n",
    "\n",
    "\n",
    "\n",
    "\n",
    "# Load image on jupyter notebook\n",
    "#img = cv2.imread('tree.png')\n",
    "#plt.figure(figsize = (20, 20))\n",
    "#plt.imshow(img)\n",
    "# Predict\n",
    "#tree_clf.predict ( [[5, 1.5]] )"
   ]
  },
  {
   "cell_type": "code",
   "execution_count": 5,
   "metadata": {},
   "outputs": [
    {
     "name": "stderr",
     "output_type": "stream",
     "text": [
      "'dot' is not recognized as an internal or external command,\n",
      "operable program or batch file.\n"
     ]
    }
   ],
   "source": [
    "!dot -Tpng tree.dot -o tree.png"
   ]
  }
 ],
 "metadata": {
  "kernelspec": {
   "display_name": "ML",
   "language": "python",
   "name": "python3"
  },
  "language_info": {
   "codemirror_mode": {
    "name": "ipython",
    "version": 3
   },
   "file_extension": ".py",
   "mimetype": "text/x-python",
   "name": "python",
   "nbconvert_exporter": "python",
   "pygments_lexer": "ipython3",
   "version": "3.12.0"
  }
 },
 "nbformat": 4,
 "nbformat_minor": 2
}
