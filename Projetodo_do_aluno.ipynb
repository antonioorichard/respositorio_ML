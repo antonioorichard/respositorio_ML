{
 "cells": [
  {
   "cell_type": "markdown",
   "metadata": {},
   "source": [
    "# Library"
   ]
  },
  {
   "cell_type": "code",
   "execution_count": 20,
   "metadata": {},
   "outputs": [],
   "source": [
    "import pandas as pd\n",
    "\n",
    "# Classification Library\n",
    "    #MODELS THE MACHINE\n",
    "from sklearn.neighbors import KNeighborsClassifier as Knn\n",
    "\n",
    "    # METRICS\n",
    "from sklearn.metrics   import accuracy_score\n",
    "from sklearn.metrics   import recall_score\n",
    "from sklearn.metrics   import precision_score\n",
    "from sklearn.metrics   import f1_score"
   ]
  },
  {
   "cell_type": "markdown",
   "metadata": {},
   "source": [
    "# Classification"
   ]
  },
  {
   "cell_type": "code",
   "execution_count": 6,
   "metadata": {},
   "outputs": [],
   "source": [
    "# Resultados  dataframe vazio\n",
    "Results_classication = pd.DataFrame()\n",
    "# df['nome_da_coluna'] = \"\" # Add columns and valors\n",
    "# Train"
   ]
  },
  {
   "cell_type": "markdown",
   "metadata": {},
   "source": [
    "What data is about ?\n",
    "It seems that the data comes from travel company wanting to know if their customers are taking a business trip or vacation."
   ]
  },
  {
   "cell_type": "markdown",
   "metadata": {},
   "source": [
    "Load Datasets"
   ]
  },
  {
   "cell_type": "code",
   "execution_count": 17,
   "metadata": {},
   "outputs": [],
   "source": [
    "# Datasets\n",
    "X_train  = pd.read_csv(\"Classification/X_training.csv\")\n",
    "y_train  = pd.read_csv(\"Classification/y_training.csv\") \n",
    "X_test   = pd.read_csv(\"Classification/X_test.csv\")\n",
    "y_test   = pd.read_csv(\"Classification/y_test.csv\")\n",
    "X_val    = pd.read_csv(\"Classification/X_validation.csv\")\n",
    "y_val    = pd.read_csv(\"Classification/y_validation.csv\")\n"
   ]
  },
  {
   "cell_type": "markdown",
   "metadata": {},
   "source": [
    "## KNN"
   ]
  },
  {
   "cell_type": "code",
   "execution_count": null,
   "metadata": {},
   "outputs": [],
   "source": [
    "knn = KNeighborsClassifier(n_neighbors=7) \n",
    "knn.fit(X_train, y_train) \n",
    "knn.predict(X_test)\n",
    "accuracy_score(y_true, y_pred)"
   ]
  },
  {
   "cell_type": "markdown",
   "metadata": {},
   "source": [
    "### Metrics \n"
   ]
  },
  {
   "cell_type": "code",
   "execution_count": null,
   "metadata": {},
   "outputs": [],
   "source": [
    "# Nome do algoritmo\n",
    "def metricas(model_name, y_true, y_pred):\n",
    "    # ACCURACY\n",
    "    accuracy_score(y_true, y_pred)\n",
    "    # Precision \n",
    "    precision_score(y_true, y_pred)\n",
    "    # Recall \n",
    "    recall_score(y_true, y_pred)\n",
    "    # F1-Score\n",
    "    f1_score(y_true, y_pred)"
   ]
  },
  {
   "cell_type": "markdown",
   "metadata": {},
   "source": []
  },
  {
   "cell_type": "code",
   "execution_count": null,
   "metadata": {},
   "outputs": [],
   "source": []
  },
  {
   "cell_type": "markdown",
   "metadata": {},
   "source": [
    "## Decision Tree"
   ]
  },
  {
   "cell_type": "markdown",
   "metadata": {},
   "source": [
    "## Random Forest"
   ]
  },
  {
   "cell_type": "markdown",
   "metadata": {},
   "source": [
    "## Logistic Regression"
   ]
  },
  {
   "cell_type": "markdown",
   "metadata": {},
   "source": [
    "### Metrics \n"
   ]
  },
  {
   "cell_type": "code",
   "execution_count": 3,
   "metadata": {},
   "outputs": [],
   "source": [
    "# Nome do algoritmo\n",
    "# ACCURACY\n",
    "# Precision \n",
    "# Recall \n",
    "# F1-Score"
   ]
  },
  {
   "cell_type": "markdown",
   "metadata": {},
   "source": []
  },
  {
   "cell_type": "code",
   "execution_count": null,
   "metadata": {},
   "outputs": [],
   "source": []
  },
  {
   "cell_type": "markdown",
   "metadata": {},
   "source": [
    "# Regrerssion"
   ]
  },
  {
   "cell_type": "markdown",
   "metadata": {},
   "source": [
    "# Cluster"
   ]
  }
 ],
 "metadata": {
  "kernelspec": {
   "display_name": "ML",
   "language": "python",
   "name": "python3"
  },
  "language_info": {
   "codemirror_mode": {
    "name": "ipython",
    "version": 3
   },
   "file_extension": ".py",
   "mimetype": "text/x-python",
   "name": "python",
   "nbconvert_exporter": "python",
   "pygments_lexer": "ipython3",
   "version": "3.12.0"
  }
 },
 "nbformat": 4,
 "nbformat_minor": 2
}
