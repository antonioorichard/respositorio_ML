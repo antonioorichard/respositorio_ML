{
 "cells": [
  {
   "cell_type": "markdown",
   "metadata": {},
   "source": [
    "#### Library"
   ]
  },
  {
   "cell_type": "code",
   "execution_count": 1,
   "metadata": {},
   "outputs": [],
   "source": [
    "# Importação das bibliotecas\n",
    "import pandas as pd\n",
    "from sklearn.neighbors import KNeighborsClassifier\n",
    "from sklearn import metrics as mt\n",
    "import pandas as pd\n",
    "from sklearn.utils import resample\n",
    "import numpy as np\n",
    "import seaborn as sns\n",
    "import matplotlib.pyplot as plt"
   ]
  },
  {
   "cell_type": "markdown",
   "metadata": {},
   "source": [
    "1. Rafaça o código de treinamento da aula 12: “K-Nearest Neighbors -\n",
    "Prática” no seu computador usando o Jupyter Notebook ou o Google Colabs.\n",
    "\n",
    "\n"
   ]
  },
  {
   "cell_type": "code",
   "execution_count": null,
   "metadata": {},
   "outputs": [],
   "source": [
    "# Importação das bibliotecas\n",
    "\n",
    "# Carregamento dos dados\n",
    "df = pd.read_csv( '../dataset/train.csv' )\n",
    "# Seleção de Features\n",
    "features = ['idade', 'saldo_atual', 'divida_atual', 'renda_anual', 'valor_em_investimentos',\n",
    "'taxa_utilizacao_credito', 'num_emprestimos', 'num_contas_bancarias', 'num_cartoes_credito',\n",
    "'dias_atraso_dt_venc', 'num_pgtos_atrasados', 'num_consultas_credito', 'taxa_juros']\n",
    "label = ['limite_adicional']\n",
    "# Preparação dos dados de treino\n",
    "x_train = df.loc[:, features]\n",
    "y_train = df.loc[:, label].values.ravel()\n",
    "# Treinamento do algoritmo KNN\n",
    "knn_classifier = KNeighborsClassifier( n_neighbors = 8 )\n",
    "knn_classifier.fit( x_train, y_train )\n",
    "# Previsão das observações\n",
    "y_pred = knn_classifier.predict( x_train )\n",
    "# Comparação do Previsto com o Realizado\n",
    "df1 = df.loc[:, ['id_cliente', 'limite_adicional']]\n",
    "df1['predicted'] = y_pred"
   ]
  },
  {
   "cell_type": "markdown",
   "metadata": {},
   "source": [
    "2. Retreino o algoritmo com os seguintes valores para K: [3, 5, 7, 9, 11, 13,\n",
    "15, 17, 19 e 21] e anote a acurácia.\n"
   ]
  },
  {
   "cell_type": "code",
   "execution_count": 2,
   "metadata": {},
   "outputs": [],
   "source": [
    "# Importação das bibliotecas\n",
    "\n",
    "# Carregamento dos dados\n",
    "df = pd.read_csv( 'dataset/train.csv' )\n",
    "# Seleção de Features\n",
    "features = ['idade', 'saldo_atual', 'divida_atual', 'renda_anual', 'valor_em_investimentos',\n",
    "'taxa_utilizacao_credito', 'num_emprestimos', 'num_contas_bancarias', 'num_cartoes_credito',\n",
    "'dias_atraso_dt_venc', 'num_pgtos_atrasados', 'num_consultas_credito', 'taxa_juros']\n",
    "label = ['limite_adicional']\n",
    "# Preparação dos dados de treino\n",
    "x_train = df.loc[:, features]\n",
    "y_train = df.loc[:, label].values.ravel()\n",
    "\n",
    "K = [3, 5, 7, 9, 11, 13, 15, 17, 19, 21]\n",
    "resultados_accuracy = []\n",
    "resultados_accuracy_dic = {3:0, 5:0, 7:0, 9:0, 11:0, 13:0, 15:0, 17:0, 19:0, 21:0}\n",
    "for n_vizinhos in K:\n",
    "    # Treinamento do algoritmo KNN\n",
    "    knn_classifier = KNeighborsClassifier( n_neighbors = n_vizinhos )\n",
    "    knn_classifier.fit( x_train, y_train )\n",
    "\n",
    "    # Previsão das observações\n",
    "    y_pred = knn_classifier.predict( x_train )\n",
    "    # Comparação do Previsto com o Realizado\n",
    "    df1 = df.loc[:, ['id_cliente', 'limite_adicional']]\n",
    "    df1['predicted'] = y_pred\n",
    "\n",
    "    # Acurracy \n",
    "    resultados_accuracy.append(mt.accuracy_score( y_train, y_pred ))\n",
    "    resultados_accuracy_dic[n_vizinhos] = mt.accuracy_score( y_train, y_pred) "
   ]
  },
  {
   "cell_type": "code",
   "execution_count": 3,
   "metadata": {},
   "outputs": [
    {
     "data": {
      "text/plain": [
       "[0.8854736842105263,\n",
       " 0.8667368421052631,\n",
       " 0.8590526315789474,\n",
       " 0.8528421052631578,\n",
       " 0.85,\n",
       " 0.8492631578947368,\n",
       " 0.848,\n",
       " 0.8478947368421053,\n",
       " 0.8478947368421053,\n",
       " 0.8462105263157895]"
      ]
     },
     "execution_count": 3,
     "metadata": {},
     "output_type": "execute_result"
    }
   ],
   "source": [
    "resultados_accuracy"
   ]
  },
  {
   "cell_type": "code",
   "execution_count": 4,
   "metadata": {},
   "outputs": [
    {
     "data": {
      "text/plain": [
       "{3: 0.8854736842105263,\n",
       " 5: 0.8667368421052631,\n",
       " 7: 0.8590526315789474,\n",
       " 9: 0.8528421052631578,\n",
       " 11: 0.85,\n",
       " 13: 0.8492631578947368,\n",
       " 15: 0.848,\n",
       " 17: 0.8478947368421053,\n",
       " 19: 0.8478947368421053,\n",
       " 21: 0.8462105263157895}"
      ]
     },
     "execution_count": 4,
     "metadata": {},
     "output_type": "execute_result"
    }
   ],
   "source": [
    "# número de vizinhos : resultado da acurracy\n",
    "resultados_accuracy_dic"
   ]
  },
  {
   "cell_type": "markdown",
   "metadata": {},
   "source": [
    "3. Qual o problema principal de usar a métrica acurácia? Escreve um\n",
    "exemplo hipotético, no qual o problema acontece.\n"
   ]
  },
  {
   "cell_type": "markdown",
   "metadata": {},
   "source": [
    "Tudo começa pela formulação da métrica, sua fórmula é composta por seguintes partes da matriz de confusão TP+TN/ TP+TN+FP+FN, se verdadeiro positivo ou verdadeiro negativo for a maioria e nesse o classificador ir muito bem, a métrica retornará uma boa pontuação, o que pode levar uma interpretação errada sobre o desempenho do classificador, por isso, ele não é recomendado para dados desbalanceados."
   ]
  },
  {
   "cell_type": "markdown",
   "metadata": {},
   "source": [
    "4. Explique com um pequeno texto ilustrando a diferença entre a métrica de\n",
    "Precision e Recall e mostrando quando usa deve ser escolhida em relação a\n",
    "outra."
   ]
  },
  {
   "cell_type": "markdown",
   "metadata": {},
   "source": [
    "A fórmula da Precission (precisão) é TP/(TP+FP) ele está observando clareamente a precisão, quanto é realmente positivo dos que foram classificados positivos, custuma dizer que é a quantidade de acerto por tentativa.\n",
    "A fórmula da Recall é TP/TP+FN ele está procurando saber do conjunto positivo, quantos conseguimos lembrar ou reconhecer.\n",
    "Então podemos resume que Precission ele olha para o que foi classificado, já o Recall olha para o conjuntos tipos. \n",
    "Exemplo: Imagine que em um balde tenha ouro e ouro de tolo juntos em pedras pequenas e eu não sei diferenciar.  É permitido eu pegar o máximo possível em 10s, após pegar sou instruindo para saber diferenciar eles, eu olho e conto o quanto eu peguei era realmente ouro, a precisão de captura (Precision). Depois eu obeservo o quanto de ouro eu peguei e quantidade total de ouro que tinha no balde (Recall)"
   ]
  },
  {
   "cell_type": "markdown",
   "metadata": {},
   "source": [
    "5. Escreve um trecho de código que automatize o treinamento do algoritmo\n",
    "K-NN, a fim de encontrar o melhor valor para K, do exercício 2."
   ]
  },
  {
   "cell_type": "code",
   "execution_count": 3,
   "metadata": {},
   "outputs": [
    {
     "name": "stdout",
     "output_type": "stream",
     "text": [
      "O resultado foi 1.0 com 1 vizinhos\n",
      "O resultado foi 1.0 com 1 vizinhos\n",
      "O resultado foi 1.0 com 1 vizinhos\n",
      "O melhor resultado foi 1.0 com 1 vizinhos\n"
     ]
    }
   ],
   "source": [
    "# Importação das bibliotecas\n",
    "\n",
    "# Carregamento dos dados\n",
    "df = pd.read_csv( 'dataset/train.csv' )\n",
    "\n",
    "# Seleção de Features\n",
    "features = ['idade', 'saldo_atual', 'divida_atual', 'renda_anual', 'valor_em_investimentos',\n",
    "'taxa_utilizacao_credito', 'num_emprestimos', 'num_contas_bancarias', 'num_cartoes_credito',\n",
    "'dias_atraso_dt_venc', 'num_pgtos_atrasados', 'num_consultas_credito', 'taxa_juros']\n",
    "label = ['limite_adicional']\n",
    "# Preparação dos dados de treino\n",
    "x_train = df.loc[:, features]\n",
    "y_train = df.loc[:, label].values.ravel()\n",
    "\n",
    "melhor_resulado = {'chave':'valor'}\n",
    "K = int(input(\"Informe número de vizinhos que quer testa\"))\n",
    "vizinho = 0\n",
    "nota = 0\n",
    "for n_vizinhos in list(range(1,K+1)):\n",
    "    # Treinamento do algoritmo KNN\n",
    "    knn_classifier = KNeighborsClassifier( n_neighbors = n_vizinhos )\n",
    "    knn_classifier.fit( x_train, y_train )\n",
    "\n",
    "    # Previsão das observações\n",
    "    y_pred = knn_classifier.predict( x_train )\n",
    "    # Comparação do Previsto com o Realizado\n",
    "    df1 = df.loc[:, ['id_cliente', 'limite_adicional']]\n",
    "    df1['predicted'] = y_pred\n",
    "\n",
    "    # Acurracy \n",
    "   \n",
    "    acurracy =mt.accuracy_score( y_train, y_pred )\n",
    "    if nota< mt.accuracy_score( y_train, y_pred ):\n",
    "        vizinho = n_vizinhos\n",
    "        nota = mt.accuracy_score( y_train, y_pred )\n",
    "        resultado  = {vizinho: nota}\n",
    "        y_pred_ = y_pred\n",
    "    print(f\"O resultado foi {nota} com {vizinho} vizinhos\")\n",
    "print(f\"O melhor resultado foi {nota} com {vizinho} vizinhos\")"
   ]
  },
  {
   "cell_type": "markdown",
   "metadata": {},
   "source": [
    "6. Escreva um pequeno texto, explicando as 6 denominações da matriz de\n",
    "confusão: P, N, TP, FN, FP e TN Exercícios 2"
   ]
  },
  {
   "cell_type": "markdown",
   "metadata": {},
   "source": [
    "* Positive - alvo de referência\n",
    "* Negative - qualquer alvo que não seja referência\n",
    "* True Positive - Classificado como alvo de referência e realmente era\n",
    "* Falso Negative - Classificado como Negativo, mas era o alvo de referência\n",
    "* Falso Positive - Classificado como alvo de referência, mas na verdade não era\n",
    "* True Negative - Classifcado como não alvo de referência e não era na vida real."
   ]
  },
  {
   "cell_type": "markdown",
   "metadata": {},
   "source": [
    "7. No conjunto de dados usado na aula 12: “K-Nearest Neighbors - Prática”,\n",
    "existe alguma variável que fere as premissas do K-NN? Se sim ou não,\n",
    "explique."
   ]
  },
  {
   "cell_type": "markdown",
   "metadata": {},
   "source": [
    "Se os dados for muito grande ele começa a fica lento e menos preiciso."
   ]
  },
  {
   "cell_type": "markdown",
   "metadata": {},
   "source": [
    "8. Faça a seguinte bateria de testes"
   ]
  },
  {
   "cell_type": "markdown",
   "metadata": {},
   "source": [
    "    8.1 Class balanceada originalmente:\n",
    "1. Faça a matriz de confusão, calcule a acurácia, recall e precision do\n",
    "conjunto de dados original\n",
    "2. Anote os resultados."
   ]
  },
  {
   "cell_type": "code",
   "execution_count": 5,
   "metadata": {},
   "outputs": [
    {
     "name": "stdout",
     "output_type": "stream",
     "text": [
      "Resultado da matriz de confusão [[1505    0]\n",
      " [   0 7995]]\n",
      "Resultado da matriz de confusão 1.0\n",
      "Resultado da matriz de confusão 1.0\n",
      "Resultado da matriz de confusão 1.0\n"
     ]
    }
   ],
   "source": [
    "# 4.1 Confusion Matrix\n",
    "matriz =mt.confusion_matrix( y_train, y_pred_ )\n",
    "print(f\"Resultado da matriz de confusão {matriz}\")\n",
    "# 4.2 Accuracy\n",
    "acurracy=mt.accuracy_score( y_train, y_pred_ )\n",
    "print(f\"Resultado da matriz de confusão {acurracy}\")\n",
    "\n",
    "# 4.3 Precisao\n",
    "precission=mt.precision_score( y_train, y_pred_, average=\"binary\", pos_label='Conceder' )\n",
    "print(f\"Resultado da matriz de confusão {precission}\")\n",
    "# 4.4 Recall\n",
    "recall = mt.recall_score( y_train, y_pred_, average='binary', pos_label='Conceder' )\n",
    "print(f\"Resultado da matriz de confusão {recall}\")\n"
   ]
  },
  {
   "cell_type": "markdown",
   "metadata": {},
   "source": [
    "8.2 Classe balanceada:\n",
    "1. Mantenha a proporção de 50% das linhas da planilha de dados com\n",
    "exemplos da classe “Conceder” e 50% com a classe “Negar”.\n",
    "2. Faça a matriz de confusão, calcule a acurácia, recall e precision.\n",
    "3. Anote os resultados.\n"
   ]
  },
  {
   "cell_type": "code",
   "execution_count": 48,
   "metadata": {},
   "outputs": [],
   "source": [
    "\n",
    "\n",
    "# Carregamento dos dados\n",
    "df = pd.read_csv( 'dataset/train.csv' )\n",
    "# Seleção de Features\n",
    "features = ['idade', 'saldo_atual', 'divida_atual', 'renda_anual', 'valor_em_investimentos',\n",
    "'taxa_utilizacao_credito', 'num_emprestimos', 'num_contas_bancarias', 'num_cartoes_credito',\n",
    "'dias_atraso_dt_venc', 'num_pgtos_atrasados', 'num_consultas_credito', 'taxa_juros']\n",
    "label = ['limite_adicional']\n",
    "\n"
   ]
  },
  {
   "cell_type": "code",
   "execution_count": 23,
   "metadata": {},
   "outputs": [
    {
     "data": {
      "image/png": "[encoded data removed]",
      "text/plain": [
       "<Figure size 640x480 with 1 Axes>"
      ]
     },
     "metadata": {},
     "output_type": "display_data"
    }
   ],
   "source": [
    "\n",
    "#criando uma figure, axes\n",
    "fig, ax = plt.subplots()\n",
    "#criando o gráfico de barras \n",
    "sns.barplot(x=df['limite_adicional'], y=df['limite_adicional'].count(), ax=ax, data=df)\n",
    "#otimizar espaço da figure\n",
    "fig.tight_layout();"
   ]
  },
  {
   "cell_type": "code",
   "execution_count": null,
   "metadata": {},
   "outputs": [],
   "source": [
    "# Preparação dos dados de treino\n",
    "x_train = df.loc[:, features]\n",
    "y_train = df.loc[:, label].values.ravel()\n",
    "\n",
    "melhor_resulado = {'chave':'valor'}\n",
    "K = int(input(\"Informe número de vizinhos que quer testa\"))\n",
    "vizinho = 0\n",
    "nota = 0\n",
    "for n_vizinhos in list(range(1,K+1)):\n",
    "    # Treinamento do algoritmo KNN\n",
    "    knn_classifier = KNeighborsClassifier( n_neighbors = n_vizinhos )\n",
    "    knn_classifier.fit( x_train, y_train )\n",
    "\n",
    "    # Previsão das observações\n",
    "    y_pred = knn_classifier.predict( x_train )\n",
    "    # Comparação do Previsto com o Realizado\n",
    "    df1 = df.loc[:, ['id_cliente', 'limite_adicional']]\n",
    "    df1['predicted'] = y_pred\n",
    "\n",
    "    # Acurracy \n",
    "   \n",
    "    acurracy =mt.accuracy_score( y_train, y_pred )\n",
    "    if nota< mt.accuracy_score( y_train, y_pred ):\n",
    "        vizinho = n_vizinhos\n",
    "        nota = mt.accuracy_score( y_train, y_pred )\n",
    "        resultado  = {vizinho: nota}\n",
    "        y_pred_ = y_pred\n",
    "    print(f\"O resultado foi {nota} com {vizinho} vizinhos\")\n",
    "print(f\"O melhor resultado foi {nota} com {vizinho} vizinhos\")"
   ]
  },
  {
   "cell_type": "code",
   "execution_count": 24,
   "metadata": {},
   "outputs": [
    {
     "name": "stdout",
     "output_type": "stream",
     "text": [
      "Resultado da matriz de confusão [[1505    0]\n",
      " [   0 7995]]\n",
      "Resultado da matriz de confusão 1.0\n",
      "Resultado da matriz de confusão 1.0\n",
      "Resultado da matriz de confusão 1.0\n"
     ]
    }
   ],
   "source": [
    "# 4.1 Confusion Matrix\n",
    "matriz =mt.confusion_matrix( y_train, y_pred_ )\n",
    "print(f\"Resultado da matriz de confusão {matriz}\")\n",
    "# 4.2 Accuracy\n",
    "acurracy=mt.accuracy_score( y_train, y_pred_ )\n",
    "print(f\"Resultado da matriz de confusão {acurracy}\")\n",
    "\n",
    "# 4.3 Precisao\n",
    "precission=mt.precision_score( y_train, y_pred_, average=\"binary\", pos_label='Conceder' )\n",
    "print(f\"Resultado da matriz de confusão {precission}\")\n",
    "# 4.4 Recall\n",
    "recall = mt.recall_score( y_train, y_pred_, average='binary', pos_label='Conceder' )\n",
    "print(f\"Resultado da matriz de confusão {recall}\")"
   ]
  },
  {
   "cell_type": "markdown",
   "metadata": {},
   "source": [
    "8.3 Classe desbalanceada 90/10\n",
    "1. Mantenha a proporção de 90% das linhas da planilha de dados com\n",
    "exemplos da classe “Conceder” e 10% com a classe “Negar”.\n",
    "2. Faça a matriz de confusão, calcule a acurácia, recall e precision.\n",
    "3. Anote os resultados.\n"
   ]
  },
  {
   "cell_type": "code",
   "execution_count": 15,
   "metadata": {},
   "outputs": [],
   "source": [
    "#90% das linhas serão concender\n",
    "\n",
    "# Suponha que você tenha um DataFrame chamado \"df\" com colunas \"limite_adicional\" e outras características\n",
    "df = pd.read_csv( 'dataset/train.csv' )\n",
    "#df.shape \n",
    "# São 9500 linhas\n",
    "# Subamostragem\n",
    "df_negar = df[df[\"limite_adicional\"] == \"Negar\"]\n",
    "#df_negar.shape\n",
    "#A classe \"Negar\" tem 7995, logo 9500-7995 = 1505\n",
    "df_conceder = df[df[\"limite_adicional\"] == \"Conceder\"]\n",
    "#df_conceder.shape\n",
    "# A classe \"Conceder\" tem 1505\n",
    "\n",
    "df_negar = df[df[\"limite_adicional\"] == \"Negar\"]\n",
    "\n",
    "df_aleatorio = df_negar.sample(n=6490, random_state=42)\n",
    "df_negar = df_negar.drop(df_aleatorio.index)\n",
    "# Agora a quantidade de dado estão iguais, em 1505, vamos reduzir novamente o df_negar\n",
    "df_aleatorio = df_negar.sample(n=1340, random_state=42)\n",
    "df_negar = df_negar.drop(df_aleatorio.index)\n",
    "# Bem lembre que 90% Conceder, só que está 50% para cada classe \n",
    "# Seleciona aleatoriamente 10% dos exemplos da classe \"Conceder\"\n",
    "df_conceder_sampled = resample(df_conceder)\n",
    "\n",
    "# Seleciona aleatoriamente 90% dos exemplos da classe \"Negar\"\n",
    "df_negar_sampled = resample(df_negar)\n",
    "\n",
    "# Combina os subconjuntos para formar o novo conjunto de dados balanceado\n",
    "df_resampled = pd.concat([df_negar_sampled, df_conceder_sampled])\n",
    "\n",
    "# Agora df_resampled tem a proporção desejada\n"
   ]
  },
  {
   "cell_type": "code",
   "execution_count": 12,
   "metadata": {},
   "outputs": [],
   "source": [
    "# Machine Learning\n",
    "\n",
    "def knn(dataset):\n",
    "    # Seleção de Features\n",
    "    features = ['idade', 'saldo_atual', 'divida_atual', 'renda_anual', 'valor_em_investimentos',\n",
    "    'taxa_utilizacao_credito', 'num_emprestimos', 'num_contas_bancarias', 'num_cartoes_credito',\n",
    "    'dias_atraso_dt_venc', 'num_pgtos_atrasados', 'num_consultas_credito', 'taxa_juros']\n",
    "    label = ['limite_adicional']\n",
    "    # Preparação dos dados de treino\n",
    "    x_train = dataset.loc[:, features]\n",
    "    y_train = dataset.loc[:, label].values.ravel()\n",
    "\n",
    "    melhor_resulado = {'chave':'valor'}\n",
    "    K = int(input(\"Informe número de vizinhos que quer testa\"))\n",
    "    vizinho = 0\n",
    "    nota = 0\n",
    "    for n_vizinhos in list(range(3, K+1)):\n",
    "        # Treinamento do algoritmo KNN\n",
    "        knn_classifier = KNeighborsClassifier( n_neighbors = n_vizinhos )\n",
    "        knn_classifier.fit( x_train, y_train )\n",
    "\n",
    "        # Previsão das observações\n",
    "        y_pred = knn_classifier.predict( x_train )\n",
    "        # Comparação do Previsto com o Realizado\n",
    "    # df1 = df.loc[:, ['id_cliente', 'limite_adicional']]\n",
    "        #df1['predicted'] = y_pred\n",
    "\n",
    "        # Acurracy \n",
    "\n",
    "        acurracy =mt.accuracy_score( y_train, y_pred )\n",
    "        if nota< mt.accuracy_score( y_train, y_pred ):\n",
    "            vizinho = n_vizinhos\n",
    "            nota = mt.accuracy_score( y_train, y_pred )\n",
    "            resultado  = {vizinho: nota}\n",
    "            y_pred_ = y_pred\n",
    "        #print(f\"O resultado foi {nota} com {vizinho} vizinhos\")\n",
    "    print(f\"O melhor resultado foi {nota} com {vizinho} vizinhos\")\n",
    "\n",
    "\n",
    "\n",
    "\n",
    "\n",
    "    # 4.1 Confusion Matrix\n",
    "    matriz =mt.confusion_matrix( y_train, y_pred_ )\n",
    "    print(f\"Resultado da matriz de confusão {matriz}\")\n",
    "    # 4.2 Accuracy\n",
    "    acurracy=mt.accuracy_score( y_train, y_pred_ )\n",
    "    print(f\"Resultado da acurracy {acurracy}\")\n",
    "\n",
    "    # 4.3 Precisao\n",
    "    precission=mt.precision_score( y_train, y_pred_, average=\"binary\", pos_label='Conceder' )\n",
    "    print(f\"Resultado do precission {precission}\")\n",
    "    # 4.4 Recall\n",
    "    recall = mt.recall_score( y_train, y_pred_, average='binary', pos_label='Conceder' )\n",
    "    print(f\"Resultado do recall  {recall}\")"
   ]
  },
  {
   "cell_type": "code",
   "execution_count": 81,
   "metadata": {},
   "outputs": [],
   "source": [
    "# K = 6"
   ]
  },
  {
   "cell_type": "code",
   "execution_count": 80,
   "metadata": {},
   "outputs": [
    {
     "name": "stdout",
     "output_type": "stream",
     "text": [
      "O melhor resultado foi 0.9050666666666667 com 5 vizinhos\n",
      "Resultado da matriz de confusão [[1473   32]\n",
      " [ 146  224]]\n",
      "Resultado da acurracy 0.9050666666666667\n",
      "Resultado do precission 0.9098208770846201\n",
      "Resultado do recall  0.9787375415282392\n"
     ]
    }
   ],
   "source": [
    "knn(df_resampled)"
   ]
  },
  {
   "cell_type": "markdown",
   "metadata": {},
   "source": [
    "8.4 Refaça o exercícios 8.3 com as seguintes variações: 80/20, 70/30 e\n",
    "60/40\n"
   ]
  },
  {
   "cell_type": "code",
   "execution_count": 5,
   "metadata": {},
   "outputs": [],
   "source": [
    "#80/20\n",
    "#80% das linhas serão concender\n",
    "def reduzir(quantidade):\n",
    "    # Suponha que você tenha um DataFrame chamado \"df\" com colunas \"limite_adicional\" e outras características\n",
    "    df = pd.read_csv( 'dataset/train.csv' )\n",
    "    #df.shape \n",
    "    # São 9500 linhas\n",
    "    # Subamostragem\n",
    "    df_negar = df[df[\"limite_adicional\"] == \"Negar\"]\n",
    "    #df_negar.shape\n",
    "    #A classe \"Negar\" tem 7995, logo 9500-7995 = 1505\n",
    "    df_conceder = df[df[\"limite_adicional\"] == \"Conceder\"]\n",
    "    #df_conceder.shape\n",
    "    # A classe \"Conceder\" tem 1505\n",
    "\n",
    "    df_negar = df[df[\"limite_adicional\"] == \"Negar\"]\n",
    "\n",
    "    df_aleatorio = df_negar.sample(n=6490, random_state=42)\n",
    "    df_negar = df_negar.drop(df_aleatorio.index)\n",
    "    # Agora a quantidade de dado estão iguais, em 1505, vamos reduzir novamente o df_negar\n",
    "    df_aleatorio = df_negar.sample(n=quantidade, random_state=42)\n",
    "    df_negar = df_negar.drop(df_aleatorio.index)\n",
    "    print(df_negar.shape)\n",
    "    # Bem lembre que 90% Conceder, só que está 50% para cada classe \n",
    "    # Seleciona aleatoriamente 10% dos exemplos da classe \"Conceder\"\n",
    "    df_conceder_sampled = resample(df_conceder)\n",
    "\n",
    "    # Seleciona aleatoriamente 90% dos exemplos da classe \"Negar\"\n",
    "    df_negar_sampled = resample(df_negar)\n",
    "\n",
    "    # Combina os subconjuntos para formar o novo conjunto de dados balanceado\n",
    "    df_resampled = pd.concat([df_negar_sampled, df_conceder_sampled])\n",
    "    return(df_resampled)\n",
    "    # Agora df_resampled tem a proporção desejada"
   ]
  },
  {
   "cell_type": "code",
   "execution_count": 13,
   "metadata": {},
   "outputs": [
    {
     "name": "stdout",
     "output_type": "stream",
     "text": [
      "(1505, 17)\n"
     ]
    },
    {
     "name": "stdout",
     "output_type": "stream",
     "text": [
      "O melhor resultado foi 0.9096345514950166 com 3 vizinhos\n",
      "Resultado da matriz de confusão [[1379  126]\n",
      " [ 146 1359]]\n",
      "Resultado da acurracy 0.9096345514950166\n",
      "Resultado do precission 0.9042622950819672\n",
      "Resultado do recall  0.9162790697674419\n"
     ]
    }
   ],
   "source": [
    "knn(reduzir(0))\n"
   ]
  },
  {
   "cell_type": "code",
   "execution_count": 15,
   "metadata": {},
   "outputs": [
    {
     "name": "stdout",
     "output_type": "stream",
     "text": [
      "(165, 17)\n"
     ]
    },
    {
     "name": "stdout",
     "output_type": "stream",
     "text": [
      "O melhor resultado foi 0.9664670658682635 com 3 vizinhos\n",
      "Resultado da matriz de confusão [[1490   15]\n",
      " [  41  124]]\n",
      "Resultado da acurracy 0.9664670658682635\n",
      "Resultado do precission 0.9732201175702155\n",
      "Resultado do recall  0.9900332225913622\n"
     ]
    }
   ],
   "source": [
    "knn(reduzir(1340))"
   ]
  },
  {
   "cell_type": "code",
   "execution_count": 16,
   "metadata": {},
   "outputs": [
    {
     "name": "stdout",
     "output_type": "stream",
     "text": [
      "(370, 17)\n"
     ]
    },
    {
     "name": "stdout",
     "output_type": "stream",
     "text": [
      "O melhor resultado foi 0.9488 com 3 vizinhos\n",
      "Resultado da matriz de confusão [[1476   29]\n",
      " [  67  303]]\n",
      "Resultado da acurracy 0.9488\n",
      "Resultado do precission 0.9565780946208684\n",
      "Resultado do recall  0.9807308970099667\n"
     ]
    }
   ],
   "source": [
    "#80/20\n",
    "knn(reduzir(1135))\n",
    "# knn é função do modelo de machine learnin, reduzir é a função que reduz a quantidade da classe \"Negar\", no caso foi reduzido 1135 de 1505 por isso retornou 370"
   ]
  },
  {
   "cell_type": "code",
   "execution_count": 17,
   "metadata": {},
   "outputs": [
    {
     "name": "stdout",
     "output_type": "stream",
     "text": [
      "(620, 17)\n"
     ]
    },
    {
     "name": "stdout",
     "output_type": "stream",
     "text": [
      "O melhor resultado foi 0.9327058823529412 com 3 vizinhos\n",
      "Resultado da matriz de confusão [[1446   59]\n",
      " [  84  536]]\n",
      "Resultado da acurracy 0.9327058823529412\n",
      "Resultado do precission 0.9450980392156862\n",
      "Resultado do recall  0.9607973421926911\n"
     ]
    }
   ],
   "source": [
    "#70/30 e\n",
    "\n",
    "knn(reduzir(885))"
   ]
  },
  {
   "cell_type": "code",
   "execution_count": 18,
   "metadata": {},
   "outputs": [
    {
     "name": "stdout",
     "output_type": "stream",
     "text": [
      "(535, 17)\n"
     ]
    },
    {
     "name": "stdout",
     "output_type": "stream",
     "text": [
      "O melhor resultado foi 0.925 com 3 vizinhos\n",
      "Resultado da matriz de confusão [[1450   55]\n",
      " [  98  437]]\n",
      "Resultado da acurracy 0.925\n",
      "Resultado do precission 0.9366925064599483\n",
      "Resultado do recall  0.9634551495016611\n"
     ]
    }
   ],
   "source": [
    "#60/40\n",
    "knn(reduzir(970))"
   ]
  },
  {
   "cell_type": "markdown",
   "metadata": {},
   "source": [
    "8.5 Crie um tabela de comparação entre os resultados das 3 métricas (\n",
    "acurácia, recall e precision ) para cada uma das proporções ( 50/50, 90/10,\n",
    "80/20, 70/30, 60/40 ) \n",
    "\n",
    "https://docs.google.com/spreadsheets/u/0/?tgif=d\n",
    "\n",
    "\n",
    "\n",
    "e responda as seguintes perguntas:\n",
    "1. Como a métrica da acurácia se comporta com a variação do\n",
    "desbalanceamento do conjunto de dados?\n",
    "* Ela pode apresentar uma métrica muito boa com dados extramamente desbalanceados, o que pode levar a uma interpretação errada da capacidade do modelo em clássificar.\n",
    "\n",
    "\n",
    "\n"
   ]
  },
  {
   "cell_type": "markdown",
   "metadata": {},
   "source": [
    "2. O que acontece com a métrica “Precison” e “Recall” a medida que\n",
    "os conjunto de dados tendem ao balanceamento de 50/50?"
   ]
  },
  {
   "cell_type": "markdown",
   "metadata": {},
   "source": [
    "* Também são manipuladas por dados desbalanceados \n"
   ]
  },
  {
   "cell_type": "markdown",
   "metadata": {},
   "source": [
    "3. Observando as respostas anteriores, quais são as ações que\n",
    "aumentam ou diminuem a métrica de “Precision” ou “Recall” de um\n",
    "problema de negócio?"
   ]
  },
  {
   "cell_type": "markdown",
   "metadata": {},
   "source": [
    "Precision = VP /(VP+FP) > Quanto menos valores Negativos, menos terá para falso positivo aumentando assim a métrica. \n",
    "Recall = VP / (VP + FN) > Quanto menos valores Negativos, mais fácil fica classificar corretamente verdadeiros positivos "
   ]
  },
  {
   "cell_type": "markdown",
   "metadata": {},
   "source": [
    "Exercícios 3\n",
    "8.6 Escreva um artigo para blog da Comunidade DS, descrevendo o seu\n",
    "aprendizado em relação ao comportamento das métricas de Precision,\n",
    "Recall e Acurácia a partir dos seus experimentos com os dados\n",
    "desbalanceados."
   ]
  }
 ],
 "metadata": {
  "kernelspec": {
   "display_name": "ML",
   "language": "python",
   "name": "python3"
  },
  "language_info": {
   "codemirror_mode": {
    "name": "ipython",
    "version": 3
   },
   "file_extension": ".py",
   "mimetype": "text/x-python",
   "name": "python",
   "nbconvert_exporter": "python",
   "pygments_lexer": "ipython3",
   "version": "3.12.0"
  }
 },
 "nbformat": 4,
 "nbformat_minor": 2
}
