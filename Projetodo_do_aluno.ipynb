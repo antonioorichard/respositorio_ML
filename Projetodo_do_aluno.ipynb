{
 "cells": [
  {
   "cell_type": "markdown",
   "metadata": {},
   "source": [
    "# Library"
   ]
  },
  {
   "cell_type": "code",
   "execution_count": 42,
   "metadata": {},
   "outputs": [],
   "source": [
    "import pandas as pd\n",
    "\n",
    "# Classification Library\n",
    "    #MODELS THE MACHINE\n",
    "from sklearn.neighbors import KNeighborsClassifier \n",
    "from sklearn.tree import DecisionTreeClassifier\n",
    "    # METRICS\n",
    "from sklearn.metrics   import accuracy_score\n",
    "from sklearn.metrics   import recall_score\n",
    "from sklearn.metrics   import precision_score\n",
    "from sklearn.metrics   import f1_score\n",
    "import numpy as np"
   ]
  },
  {
   "cell_type": "markdown",
   "metadata": {},
   "source": [
    "# Classification"
   ]
  },
  {
   "cell_type": "markdown",
   "metadata": {},
   "source": [
    "### Metrics \n"
   ]
  },
  {
   "cell_type": "code",
   "execution_count": 56,
   "metadata": {},
   "outputs": [],
   "source": [
    "# Function metricas\n",
    "def metricas( y_true, y_pred):\n",
    "    # Informações dos parâmetros!\n",
    "        # y_train      : A resposta original ao conjunto treinamento.\n",
    "        # y_pred_train : Resultado da predição ao conjunto treinamento feito pelo modelo.    \n",
    "        # y_test       : A resposta original ao conjunto teste.\n",
    "        # y_pred_test  : Resultado da predição ao conjunto teste feito pelo modelo.    \n",
    "        # y_val        : A resposta original ao conjunto validação.\n",
    "        # y_pred_val   : Resultado da predição ao conjunto validação feito pelo modelo.    \n",
    "     \n",
    "   \n",
    "    # Train\n",
    "        # ACCURACY\n",
    "    accuracy_train  = accuracy_score(y_train, y_pred_train)\n",
    "        # Precision \n",
    "    precision_train = precision_score(y_train, y_pred_train)\n",
    "        # Recall \n",
    "    recall_train    = recall_score(y_train, y_pred_train)\n",
    "        # F1-Score\n",
    "    from sklearn.metrics import f1_score\n",
    "    f1_score_train  = f1_score(y_train, y_pred_train)   \n",
    "\n",
    "\n",
    "    # Test\n",
    "        # ACCURACY\n",
    "    accuracy_train  = accuracy_score(y_test, y_pred_test)\n",
    "        # Precision \n",
    "    precision_train = precision_score(y_test, y_pred_test)\n",
    "        # Recall \n",
    "    recall_train    = recall_score(y_test, y_pred_test)\n",
    "        # F1-Score\n",
    "    from sklearn.metrics import f1_score\n",
    "    f1_score_train  = f1_score(y_test, y_pred_test)\n",
    "\n",
    "    # Validation\n",
    "        # ACCURACY\n",
    "    accuracy_val  = accuracy_score(y_val, y_pred_val)\n",
    "        # Precision \n",
    "    precision_val = precision_score(y_val, y_pred_val)\n",
    "        # Recall \n",
    "    recall_val    = recall_score(y_val, y_pred_val)\n",
    "        # F1-Score\n",
    "    from sklearn.metrics import f1_score\n",
    "    f1_score_val  = f1_score(y_val, y_pred_val)\n",
    "\n",
    "    return( accuracy_train, precision_train, recall_train, f1_score_train,  \n",
    "   \t\t accuracy_test, precision_test, recall_test, f1_score_test,\n",
    "   \t\t accuracy_val, precision_val, recall_val, f1_score_val)\n",
    "\n",
    "\n",
    "\n",
    "#  Function Register\n",
    "Results_classication = pd.DataFrame()\n",
    "def register(df, model_name, what_is, index, accuracy, precision, recall, f1_score ):\n",
    "    # Informações dos parâmetros!\n",
    "        # model_name : Nome do modelo\n",
    "        # accuracy   : Resultado da predição na métrica accuracy \n",
    "        # precision  : Resultado da predição na métrica prercision \n",
    "        # recall     : Resultado da predição na métrica recall\n",
    "        # f1_score   : Resultado da predição na métrica f1-score\n",
    "        # what_is    : essas métricas vem de um treinamento, teste ou validação (train, test, validadion)\n",
    "        # index      : Em relação ao dataset forneicido em qual index registra essas informações (1,2,3...), só um número por vez!\n",
    "        # df         : Dataframe em que deve fazer o registro\n",
    "        #return      : Dataframe alterado\n",
    "\n",
    "    # inserir um verificafor de index \n",
    "    df.loc[index, 'Modelo']    = model_name\n",
    "    df.loc[index, 'What_is']   = what_is\n",
    "    df.loc[index, 'Accuracy']  = accuracy\n",
    "    df.loc[index, 'Precision'] = precision\n",
    "    df.loc[index, 'Recall']    = recall\n",
    "    df.loc[index, 'F1_score']  = f1_score\n",
    "    \n",
    "    return( df )\n",
    "\n",
    "# Function coach\n",
    "def coach(model):\n",
    "    # Informações dos parâmetros!\n",
    "        # model_name : Nome do modelo\n",
    "        # return     : As predições do training, test e validation\n",
    "    \n",
    "    model.fit(X_train, y_train)\n",
    "\n",
    "    y_pred_train = model.predict(X_train)\n",
    "    y_pred_test  = model.predict(X_test)\n",
    "    y_pred_val   = model.predict(X_val)\n",
    "\n",
    "    return(y_pred_train, y_pred_test, y_pred_val )"
   ]
  },
  {
   "cell_type": "markdown",
   "metadata": {},
   "source": [
    "What data is about ?\n",
    "It seems that the data comes from travel company wanting to know if their customers are taking a business trip or vacation."
   ]
  },
  {
   "cell_type": "markdown",
   "metadata": {},
   "source": [
    "Load Datasets"
   ]
  },
  {
   "cell_type": "code",
   "execution_count": 57,
   "metadata": {},
   "outputs": [],
   "source": [
    "# Datasets\n",
    "X_train  = pd.read_csv(\"Classification/X_training.csv\")\n",
    "y_train  = pd.read_csv(\"Classification/y_training.csv\") \n",
    "X_test   = pd.read_csv(\"Classification/X_test.csv\")\n",
    "y_test   = pd.read_csv(\"Classification/y_test.csv\")\n",
    "X_val    = pd.read_csv(\"Classification/X_validation.csv\")\n",
    "y_val    = pd.read_csv(\"Classification/y_validation.csv\")\n"
   ]
  },
  {
   "cell_type": "markdown",
   "metadata": {},
   "source": [
    "## KNN"
   ]
  },
  {
   "cell_type": "code",
   "execution_count": 58,
   "metadata": {},
   "outputs": [
    {
     "name": "stderr",
     "output_type": "stream",
     "text": [
      "c:\\Users\\Antonio Richard\\anaconda3\\envs\\ML\\Lib\\site-packages\\sklearn\\neighbors\\_classification.py:238: DataConversionWarning: A column-vector y was passed when a 1d array was expected. Please change the shape of y to (n_samples,), for example using ravel().\n",
      "  return self._fit(X, y)\n"
     ]
    }
   ],
   "source": [
    "y_pred_train, y_pred_test, y_pred_val = coach(KNeighborsClassifier(n_neighbors=7)) \n",
    "\n"
   ]
  },
  {
   "cell_type": "markdown",
   "metadata": {},
   "source": [
    "### Train"
   ]
  },
  {
   "cell_type": "code",
   "execution_count": 53,
   "metadata": {},
   "outputs": [],
   "source": [
    "\n",
    "accuracy, precision, recall,  f1_score= metricas(y_train, y_pred_train)\n",
    "Results_classication = register(Results_classication, 'Knn', 'train', 0, accuracy, precision, recall,  f1_score )\n"
   ]
  },
  {
   "cell_type": "markdown",
   "metadata": {},
   "source": [
    "### Test"
   ]
  },
  {
   "cell_type": "code",
   "execution_count": null,
   "metadata": {},
   "outputs": [],
   "source": [
    " \n",
    "y_pred_train = knn.predict(X_test)\n",
    "accuracy, precision, recall,  f1_score= metricas(y_train, y_pred_train)\n",
    "Results_classication = register(Results_classication, 'Knn', 'train', 0, accuracy, precision, recall,  f1_score )\n"
   ]
  },
  {
   "cell_type": "markdown",
   "metadata": {},
   "source": [
    "### Validation"
   ]
  },
  {
   "cell_type": "code",
   "execution_count": null,
   "metadata": {},
   "outputs": [],
   "source": [
    "y_pred_train = knn.predict(X_train)\n",
    "accuracy, precision, recall,  f1_score= metricas(y_train, y_pred_train)\n",
    "Results_classication = register(Results_classication, 'Knn', 'train', 0, accuracy, precision, recall,  f1_score )"
   ]
  },
  {
   "cell_type": "markdown",
   "metadata": {},
   "source": [
    "## Decision Tree"
   ]
  },
  {
   "cell_type": "code",
   "execution_count": null,
   "metadata": {},
   "outputs": [],
   "source": [
    "DecisionTreeC = DecisionTreeClassifier() \n",
    "DecisionTreeC.fit(X_train, y_train) \n",
    "y_pred_train = DecisionTreeC.predict(X_train)\n"
   ]
  },
  {
   "cell_type": "code",
   "execution_count": null,
   "metadata": {},
   "outputs": [],
   "source": [
    " accuracy, precision, recall,  f1_score= metricas(y_train, y_pred_train)\n",
    "Results_classication = register(Results_classication, 'Knn', 'train', 0, accuracy, precision, recall,  f1_score )\n"
   ]
  },
  {
   "cell_type": "markdown",
   "metadata": {},
   "source": [
    "## Random Forest"
   ]
  },
  {
   "cell_type": "markdown",
   "metadata": {},
   "source": [
    "## Logistic Regression"
   ]
  },
  {
   "cell_type": "markdown",
   "metadata": {},
   "source": [
    "### Metrics \n"
   ]
  },
  {
   "cell_type": "code",
   "execution_count": 3,
   "metadata": {},
   "outputs": [],
   "source": [
    "# Nome do algoritmo\n",
    "# ACCURACY\n",
    "# Precision \n",
    "# Recall \n",
    "# F1-Score"
   ]
  },
  {
   "cell_type": "markdown",
   "metadata": {},
   "source": []
  },
  {
   "cell_type": "code",
   "execution_count": null,
   "metadata": {},
   "outputs": [],
   "source": []
  },
  {
   "cell_type": "markdown",
   "metadata": {},
   "source": [
    "# Regrerssion"
   ]
  },
  {
   "cell_type": "markdown",
   "metadata": {},
   "source": [
    "# Cluster"
   ]
  }
 ],
 "metadata": {
  "kernelspec": {
   "display_name": "ML",
   "language": "python",
   "name": "python3"
  },
  "language_info": {
   "codemirror_mode": {
    "name": "ipython",
    "version": 3
   },
   "file_extension": ".py",
   "mimetype": "text/x-python",
   "name": "python",
   "nbconvert_exporter": "python",
   "pygments_lexer": "ipython3",
   "version": "3.12.0"
  }
 },
 "nbformat": 4,
 "nbformat_minor": 2
}
